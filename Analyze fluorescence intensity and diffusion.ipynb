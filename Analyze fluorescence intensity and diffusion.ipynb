{
 "cells": [
  {
   "cell_type": "code",
   "execution_count": 4,
   "metadata": {},
   "outputs": [],
   "source": [
    "import pandas as pd\n",
    "import numpy as np\n",
    "import glob"
   ]
  },
  {
   "cell_type": "code",
   "execution_count": 13,
   "metadata": {},
   "outputs": [],
   "source": [
    "##au represent fluorescence intensity\n",
    "##dc represent diffusion coefficient\n",
    "\n",
    "\n",
    "def analyze(f):\n",
    "    df=pd.read_csv(f,encoding = 'shift-jis', dtype={'No':'object',  'Time[frame]':'int','x[px]':'float','y[px]':'float','sigmaX[px]':'float','sigmaY[px]':'float',\n",
    "                          'I[au]':'float'},header = 0, usecols=[0,1,2,3,4,5,6,10])\n",
    "\n",
    "    df= df.rename(columns={'x[px]':'X Position(pixels)','y[px]':'Y Position(pixels)'})\n",
    "\n",
    "    x = df['No']\n",
    "    df['Index'] = x.groupby((x != x.shift()).cumsum()).cumcount()\n",
    "\n",
    "    df= df.reset_index(drop=True)\n",
    "\n",
    "    df[\"No\"].values[0] = 0\n",
    "\n",
    "    for i in range(len(df.index)-1):\n",
    "        if df[\"No\"].values[i+1] != df[\"No\"].values[i]:\n",
    "            if df[\"Index\"].values[i+1] < df[\"Index\"].values[i]:\n",
    "                df[\"No\"].values[i+1] = df[\"No\"].values[i] + 1\n",
    "            else:\n",
    "                df[\"No\"].values[i+1] = df[\"No\"].values[i]\n",
    "\n",
    "    df[\"au\"]=2*3.14*df[\"sigmaX[px]\"]*df[\"sigmaY[px]\"]*df[\"I[au]\"]\n",
    "    df[\"X Position(um)\"] = df[\"X Position(pixels)\"] *6.5/90  \n",
    "    df[\"Y Position(um)\"] = df[\"Y Position(pixels)\"] *6.5/90\n",
    "    df[\"dX\"] = df[\"X Position(um)\"].diff()\n",
    "    df.loc[df[\"Index\"] == 0, \"dX\"] = np.nan\n",
    "    df[\"dY\"] = df[\"Y Position(um)\"].diff()\n",
    "    df.loc[df[\"Index\"] == 0, \"dY\"] = np.nan\n",
    "    df[\"dc\"] = (df[\"dX\"] ** 2 + df[\"dY\"] ** 2)/(4*0.1/3)\n",
    "\n",
    "    au=[]\n",
    "    dc=[]\n",
    "    for i in range(len(df)):\n",
    "        au.append(df[\"au\"].values[i])\n",
    "        dc.append(df[\"dc\"].values[i])\n",
    "    \n",
    "    return au,dc\n"
   ]
  },
  {
   "cell_type": "code",
   "execution_count": null,
   "metadata": {},
   "outputs": [],
   "source": []
  },
  {
   "cell_type": "code",
   "execution_count": null,
   "metadata": {},
   "outputs": [],
   "source": []
  }
 ],
 "metadata": {
  "kernelspec": {
   "display_name": "Python 3",
   "language": "python",
   "name": "python3"
  },
  "language_info": {
   "codemirror_mode": {
    "name": "ipython",
    "version": 3
   },
   "file_extension": ".py",
   "mimetype": "text/x-python",
   "name": "python",
   "nbconvert_exporter": "python",
   "pygments_lexer": "ipython3",
   "version": "3.8.5"
  }
 },
 "nbformat": 4,
 "nbformat_minor": 4
}
