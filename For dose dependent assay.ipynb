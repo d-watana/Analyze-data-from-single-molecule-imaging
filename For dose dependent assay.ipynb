{
 "cells": [
  {
   "cell_type": "code",
   "execution_count": 31,
   "metadata": {},
   "outputs": [],
   "source": [
    "import glob\n",
    "import matplotlib.pyplot as plt\n",
    "import numpy as np\n",
    "import pandas as pd\n",
    "import csv\n",
    "import os"
   ]
  },
  {
   "cell_type": "code",
   "execution_count": 32,
   "metadata": {},
   "outputs": [],
   "source": [
    "cmpd_plate=[\"n1\",\"n2\",\"n3\"]"
   ]
  },
  {
   "cell_type": "code",
   "execution_count": 33,
   "metadata": {},
   "outputs": [],
   "source": [
    "\n",
    "cmpd_dose_plate_n3=[]\n",
    "for n_exp in range(len(cmpd_plate)):\n",
    "    cmpd_dose_plate=[]\n",
    "    for plate in range(len(cmpd_plate)):\n",
    "        folder = \"F://github//for single molecule analysis//data//for dose dependent assay//\"+cmpd_plate[n_exp] ##select your folder  ex)C://folder//cmpd_plate[n_exp]\n",
    "        files=glob.glob(folder+\"\\\\*.csv\")\n",
    "\n",
    "        msds=[]\n",
    "\n",
    "        for file in files:\n",
    "            with open(file,'r') as f:\n",
    "                msd=[]\n",
    "                reader=csv.reader(f)\n",
    "                header = next(reader)\n",
    "                for row in reader:\n",
    "                    msd.append([int(row[0]),float(row[2]),int(row[3])])\n",
    "                sp=os.path.basename(file).split(\"_\")\n",
    "                well=sp[1]\n",
    "                msds.append([int(ord(well[0])-ord('B')),int(well[1:])-2,1 if sp[3][0]==\"p\" else 0,msd])\n",
    "\n",
    "\n",
    "        msd_average=np.zeros((10,6,2,len(msds[0][3])))\n",
    "        msd_count=np.zeros((10,6,2))\n",
    "\n",
    "\n",
    "\n",
    "\n",
    "        plate_data=[]\n",
    "        for i in range(10):\n",
    "            for j in range(6):\n",
    "                well_bef=[]\n",
    "                well_aft=[]\n",
    "                for msd in msds:\n",
    "                    if j==msd[0] and i==msd[1]:\n",
    "                        result_bef=[]\n",
    "                        result_aft=[]\n",
    "\n",
    "                        if msd[2]==0:    #msd[2]は薬剤添加前後の判断\n",
    "                            for n in range(len(msd[3])):\n",
    "                                result_bef.append(msd[3][n][1])\n",
    "\n",
    "                        elif msd[2]==1:\n",
    "                            for n in range(len(msd[3])):\n",
    "                                result_aft.append(msd[3][n][1])\n",
    "\n",
    "                        well_bef.append(result_bef)\n",
    "                        well_aft.append(result_aft)\n",
    "                well=[well_bef,well_aft]\n",
    "                plate_data.append(well)\n",
    "\n",
    "\n",
    "        cmpd_dose_plate.append(plate_data)\n",
    "    cmpd_dose_plate_n3.append(cmpd_dose_plate)"
   ]
  },
  {
   "cell_type": "code",
   "execution_count": 34,
   "metadata": {},
   "outputs": [],
   "source": [
    "flame=5"
   ]
  },
  {
   "cell_type": "code",
   "execution_count": 35,
   "metadata": {},
   "outputs": [
    {
     "name": "stderr",
     "output_type": "stream",
     "text": [
      "<ipython-input-35-7a83b50d2c36>:17: VisibleDeprecationWarning: Creating an ndarray from ragged nested sequences (which is a list-or-tuple of lists-or-tuples-or ndarrays with different lengths or shapes) is deprecated. If you meant to do this, you must specify 'dtype=object' when creating the ndarray.\n",
      "  factor_arraybef=np.array(cmpd_dose_bef).reshape(10,6).T\n"
     ]
    }
   ],
   "source": [
    "condition=0 #EGF添加前\n",
    "\n",
    "cmpd_dose_info_cell_bef=[]\n",
    "\n",
    "for plate in range(len(cmpd_plate)):\n",
    "    \n",
    "    cmpd_dose_bef=[]\n",
    "    for well in range(len(cmpd_dose_plate_n3[enu][plate])):\n",
    "        cmpd_bef=[]\n",
    "        for enu in range(0,3):\n",
    "            for cell in range(len(cmpd_dose_plate_n3[enu][plate][well][condition])):\n",
    "                if cmpd_dose_plate_n3[enu][plate][well][condition][cell]==[]:\n",
    "                    continue\n",
    "                cmpd_bef.append(cmpd_dose_plate_n3[enu][plate][well][condition][cell][flame])\n",
    "        cmpd_dose_bef.append(cmpd_bef)\n",
    "\n",
    "    factor_arraybef=np.array(cmpd_dose_bef).reshape(10,6).T\n",
    "    cmpd_infobef=factor_arraybef.flatten().reshape(12,5)\n",
    "    \n",
    "    cmpd_dose_info_cell_bef.extend(cmpd_infobef)"
   ]
  },
  {
   "cell_type": "code",
   "execution_count": 36,
   "metadata": {},
   "outputs": [
    {
     "name": "stderr",
     "output_type": "stream",
     "text": [
      "<ipython-input-36-74ab23dee03b>:16: VisibleDeprecationWarning: Creating an ndarray from ragged nested sequences (which is a list-or-tuple of lists-or-tuples-or ndarrays with different lengths or shapes) is deprecated. If you meant to do this, you must specify 'dtype=object' when creating the ndarray.\n",
      "  factor_arrayaft=np.array(cmpd_dose_aft).reshape(10,6).T\n"
     ]
    }
   ],
   "source": [
    "condition=1 #EGF添加後\n",
    "\n",
    "cmpd_dose_info_cell_aft=[]\n",
    "\n",
    "for plate in range(len(cmpd_plate)):\n",
    "    \n",
    "    cmpd_dose_aft=[]\n",
    "    for well in range(len(cmpd_dose_plate_n3[enu][plate])):\n",
    "        cmpd_aft=[]\n",
    "        for enu in range(0,3):\n",
    "            for cell in range(len(cmpd_dose_plate_n3[enu][plate][well][condition])):\n",
    "                if cmpd_dose_plate_n3[enu][plate][well][condition][cell]==[]:\n",
    "                    continue\n",
    "                cmpd_aft.append(cmpd_dose_plate_n3[enu][plate][well][condition][cell][flame])\n",
    "        cmpd_dose_aft.append(cmpd_aft)\n",
    "    factor_arrayaft=np.array(cmpd_dose_aft).reshape(10,6).T\n",
    "    cmpd_infoaft=factor_arrayaft.flatten().reshape(12,5)\n",
    "    \n",
    "    cmpd_dose_info_cell_aft.extend(cmpd_infoaft)"
   ]
  },
  {
   "cell_type": "code",
   "execution_count": 37,
   "metadata": {},
   "outputs": [
    {
     "data": {
      "image/png": "[encoded data removed]",
      "text/plain": [
       "<Figure size 1440x2880 with 2 Axes>"
      ]
     },
     "metadata": {
      "needs_background": "light"
     },
     "output_type": "display_data"
    }
   ],
   "source": [
    "plt.figure(figsize=(20,40))\n",
    "\n",
    "for num in range(0,2):\n",
    "    plt.subplot(14, 5, num+1)\n",
    "    plt.xscale(\"log\")\n",
    "    plt.ylim(0.01,0.15)\n",
    "    plt.xticks(color=\"None\")\n",
    "    plt.yticks(color=\"None\")\n",
    "    \n",
    "    \n",
    "    #添加前のグラフ\n",
    "    plt.scatter([10]*len(cmpd_dose_info_cell_bef[num][0]),cmpd_dose_info_cell_bef[num][0],s=50,marker=\"o\",color=\"grey\",alpha=0.7)\n",
    "    plt.scatter([1]*len(cmpd_dose_info_cell_bef[num][1]),cmpd_dose_info_cell_bef[num][1],s=50,marker=\"o\",color=\"grey\",alpha=0.7)\n",
    "    plt.scatter([0.1]*len(cmpd_dose_info_cell_bef[num][2]),cmpd_dose_info_cell_bef[num][2],s=50,marker=\"o\",color=\"grey\",alpha=0.7)\n",
    "    plt.scatter([0.01]*len(cmpd_dose_info_cell_bef[num][3]),cmpd_dose_info_cell_bef[num][3],s=50,marker=\"o\",color=\"grey\",alpha=0.7)\n",
    "    plt.scatter([0.001]*len(cmpd_dose_info_cell_bef[num][4]),cmpd_dose_info_cell_bef[num][4],s=50,marker=\"o\",color=\"grey\",alpha=0.7)\n",
    "\n",
    "    #添加後のグラフ\n",
    "    plt.scatter([10]*len(cmpd_dose_info_cell_aft[num][0]),cmpd_dose_info_cell_aft[num][0],s=50,marker=\"o\",color=\"salmon\",alpha=0.7)\n",
    "    plt.scatter([1]*len(cmpd_dose_info_cell_aft[num][1]),cmpd_dose_info_cell_aft[num][1],s=50,marker=\"o\",color=\"salmon\",alpha=0.7)\n",
    "    plt.scatter([0.1]*len(cmpd_dose_info_cell_aft[num][2]),cmpd_dose_info_cell_aft[num][2],s=50,marker=\"o\",color=\"salmon\",alpha=0.7)\n",
    "    plt.scatter([0.01]*len(cmpd_dose_info_cell_aft[num][3]),cmpd_dose_info_cell_aft[num][3],s=50,marker=\"o\",color=\"salmon\",alpha=0.7)\n",
    "    plt.scatter([0.001]*len(cmpd_dose_info_cell_aft[num][4]),cmpd_dose_info_cell_aft[num][4],s=50,marker=\"o\",color=\"salmon\",alpha=0.7)"
   ]
  },
  {
   "cell_type": "code",
   "execution_count": null,
   "metadata": {},
   "outputs": [],
   "source": []
  },
  {
   "cell_type": "code",
   "execution_count": null,
   "metadata": {},
   "outputs": [],
   "source": []
  },
  {
   "cell_type": "code",
   "execution_count": null,
   "metadata": {},
   "outputs": [],
   "source": []
  }
 ],
 "metadata": {
  "kernelspec": {
   "display_name": "Python 3",
   "language": "python",
   "name": "python3"
  },
  "language_info": {
   "codemirror_mode": {
    "name": "ipython",
    "version": 3
   },
   "file_extension": ".py",
   "mimetype": "text/x-python",
   "name": "python",
   "nbconvert_exporter": "python",
   "pygments_lexer": "ipython3",
   "version": "3.8.5"
  }
 },
 "nbformat": 4,
 "nbformat_minor": 4
}
